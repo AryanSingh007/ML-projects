{
 "cells": [
  {
   "cell_type": "code",
   "execution_count": 1,
   "metadata": {},
   "outputs": [],
   "source": [
    "#part 1 - Data Preprocessing\n",
    "#We_are_trying_to_predict_which_of_the_customers_will_leave_the_bank_by_learning_from_the_data_set\n",
    "import numpy as np\n",
    "import matplotlib.pyplot as plt\n",
    "import pandas as pd\n",
    "\n",
    "dataset=pd.read_csv('Churn_Modelling.csv')"
   ]
  },
  {
   "cell_type": "code",
   "execution_count": 2,
   "metadata": {},
   "outputs": [
    {
     "name": "stdout",
     "output_type": "stream",
     "text": [
      "      RowNumber  CustomerId         Surname  CreditScore Geography  Gender  \\\n",
      "0             1    15634602        Hargrave          619    France  Female   \n",
      "1             2    15647311            Hill          608     Spain  Female   \n",
      "2             3    15619304            Onio          502    France  Female   \n",
      "3             4    15701354            Boni          699    France  Female   \n",
      "4             5    15737888        Mitchell          850     Spain  Female   \n",
      "5             6    15574012             Chu          645     Spain    Male   \n",
      "6             7    15592531        Bartlett          822    France    Male   \n",
      "7             8    15656148          Obinna          376   Germany  Female   \n",
      "8             9    15792365              He          501    France    Male   \n",
      "9            10    15592389              H?          684    France    Male   \n",
      "10           11    15767821          Bearce          528    France    Male   \n",
      "11           12    15737173         Andrews          497     Spain    Male   \n",
      "12           13    15632264             Kay          476    France  Female   \n",
      "13           14    15691483            Chin          549    France  Female   \n",
      "14           15    15600882           Scott          635     Spain  Female   \n",
      "15           16    15643966         Goforth          616   Germany    Male   \n",
      "16           17    15737452           Romeo          653   Germany    Male   \n",
      "17           18    15788218       Henderson          549     Spain  Female   \n",
      "18           19    15661507         Muldrow          587     Spain    Male   \n",
      "19           20    15568982             Hao          726    France  Female   \n",
      "20           21    15577657        McDonald          732    France    Male   \n",
      "21           22    15597945        Dellucci          636     Spain  Female   \n",
      "22           23    15699309       Gerasimov          510     Spain  Female   \n",
      "23           24    15725737          Mosman          669    France    Male   \n",
      "24           25    15625047             Yen          846    France  Female   \n",
      "25           26    15738191         Maclean          577    France    Male   \n",
      "26           27    15736816           Young          756   Germany    Male   \n",
      "27           28    15700772         Nebechi          571    France    Male   \n",
      "28           29    15728693      McWilliams          574   Germany  Female   \n",
      "29           30    15656300        Lucciano          411    France    Male   \n",
      "...         ...         ...             ...          ...       ...     ...   \n",
      "9970       9971    15587133        Thompson          518    France    Male   \n",
      "9971       9972    15721377            Chou          833    France  Female   \n",
      "9972       9973    15747927           Ch'in          758    France    Male   \n",
      "9973       9974    15806455          Miller          611    France    Male   \n",
      "9974       9975    15695474          Barker          583    France    Male   \n",
      "9975       9976    15666295           Smith          610   Germany    Male   \n",
      "9976       9977    15656062         Azikiwe          637    France  Female   \n",
      "9977       9978    15579969         Mancini          683    France  Female   \n",
      "9978       9979    15703563           P'eng          774    France    Male   \n",
      "9979       9980    15692664          Diribe          677    France  Female   \n",
      "9980       9981    15719276            T'ao          741     Spain    Male   \n",
      "9981       9982    15672754        Burbidge          498   Germany    Male   \n",
      "9982       9983    15768163         Griffin          655   Germany  Female   \n",
      "9983       9984    15656710           Cocci          613    France    Male   \n",
      "9984       9985    15696175  Echezonachukwu          602   Germany    Male   \n",
      "9985       9986    15586914          Nepean          659    France    Male   \n",
      "9986       9987    15581736        Bartlett          673   Germany    Male   \n",
      "9987       9988    15588839         Mancini          606     Spain    Male   \n",
      "9988       9989    15589329         Pirozzi          775    France    Male   \n",
      "9989       9990    15605622        McMillan          841     Spain    Male   \n",
      "9990       9991    15798964      Nkemakonam          714   Germany    Male   \n",
      "9991       9992    15769959     Ajuluchukwu          597    France  Female   \n",
      "9992       9993    15657105     Chukwualuka          726     Spain    Male   \n",
      "9993       9994    15569266          Rahman          644    France    Male   \n",
      "9994       9995    15719294            Wood          800    France  Female   \n",
      "9995       9996    15606229        Obijiaku          771    France    Male   \n",
      "9996       9997    15569892       Johnstone          516    France    Male   \n",
      "9997       9998    15584532             Liu          709    France  Female   \n",
      "9998       9999    15682355       Sabbatini          772   Germany    Male   \n",
      "9999      10000    15628319          Walker          792    France  Female   \n",
      "\n",
      "      Age  Tenure    Balance  NumOfProducts  HasCrCard  IsActiveMember  \\\n",
      "0      42       2       0.00              1          1               1   \n",
      "1      41       1   83807.86              1          0               1   \n",
      "2      42       8  159660.80              3          1               0   \n",
      "3      39       1       0.00              2          0               0   \n",
      "4      43       2  125510.82              1          1               1   \n",
      "5      44       8  113755.78              2          1               0   \n",
      "6      50       7       0.00              2          1               1   \n",
      "7      29       4  115046.74              4          1               0   \n",
      "8      44       4  142051.07              2          0               1   \n",
      "9      27       2  134603.88              1          1               1   \n",
      "10     31       6  102016.72              2          0               0   \n",
      "11     24       3       0.00              2          1               0   \n",
      "12     34      10       0.00              2          1               0   \n",
      "13     25       5       0.00              2          0               0   \n",
      "14     35       7       0.00              2          1               1   \n",
      "15     45       3  143129.41              2          0               1   \n",
      "16     58       1  132602.88              1          1               0   \n",
      "17     24       9       0.00              2          1               1   \n",
      "18     45       6       0.00              1          0               0   \n",
      "19     24       6       0.00              2          1               1   \n",
      "20     41       8       0.00              2          1               1   \n",
      "21     32       8       0.00              2          1               0   \n",
      "22     38       4       0.00              1          1               0   \n",
      "23     46       3       0.00              2          0               1   \n",
      "24     38       5       0.00              1          1               1   \n",
      "25     25       3       0.00              2          0               1   \n",
      "26     36       2  136815.64              1          1               1   \n",
      "27     44       9       0.00              2          0               0   \n",
      "28     43       3  141349.43              1          1               1   \n",
      "29     29       0   59697.17              2          1               1   \n",
      "...   ...     ...        ...            ...        ...             ...   \n",
      "9970   42       7  151027.05              2          1               0   \n",
      "9971   34       3  144751.81              1          0               0   \n",
      "9972   26       4  155739.76              1          1               0   \n",
      "9973   27       7       0.00              2          1               1   \n",
      "9974   33       7  122531.86              1          1               0   \n",
      "9975   50       1  113957.01              2          1               0   \n",
      "9976   33       7  103377.81              1          1               0   \n",
      "9977   32       9       0.00              2          1               1   \n",
      "9978   40       9   93017.47              2          1               0   \n",
      "9979   58       1   90022.85              1          0               1   \n",
      "9980   35       6   74371.49              1          0               0   \n",
      "9981   42       3  152039.70              1          1               1   \n",
      "9982   46       7  137145.12              1          1               0   \n",
      "9983   40       4       0.00              1          0               0   \n",
      "9984   35       7   90602.42              2          1               1   \n",
      "9985   36       6  123841.49              2          1               0   \n",
      "9986   47       1  183579.54              2          0               1   \n",
      "9987   30       8  180307.73              2          1               1   \n",
      "9988   30       4       0.00              2          1               0   \n",
      "9989   28       4       0.00              2          1               1   \n",
      "9990   33       3   35016.60              1          1               0   \n",
      "9991   53       4   88381.21              1          1               0   \n",
      "9992   36       2       0.00              1          1               0   \n",
      "9993   28       7  155060.41              1          1               0   \n",
      "9994   29       2       0.00              2          0               0   \n",
      "9995   39       5       0.00              2          1               0   \n",
      "9996   35      10   57369.61              1          1               1   \n",
      "9997   36       7       0.00              1          0               1   \n",
      "9998   42       3   75075.31              2          1               0   \n",
      "9999   28       4  130142.79              1          1               0   \n",
      "\n",
      "      EstimatedSalary  Exited  \n",
      "0           101348.88       1  \n",
      "1           112542.58       0  \n",
      "2           113931.57       1  \n",
      "3            93826.63       0  \n",
      "4            79084.10       0  \n",
      "5           149756.71       1  \n",
      "6            10062.80       0  \n",
      "7           119346.88       1  \n",
      "8            74940.50       0  \n",
      "9            71725.73       0  \n",
      "10           80181.12       0  \n",
      "11           76390.01       0  \n",
      "12           26260.98       0  \n",
      "13          190857.79       0  \n",
      "14           65951.65       0  \n",
      "15           64327.26       0  \n",
      "16            5097.67       1  \n",
      "17           14406.41       0  \n",
      "18          158684.81       0  \n",
      "19           54724.03       0  \n",
      "20          170886.17       0  \n",
      "21          138555.46       0  \n",
      "22          118913.53       1  \n",
      "23            8487.75       0  \n",
      "24          187616.16       0  \n",
      "25          124508.29       0  \n",
      "26          170041.95       0  \n",
      "27           38433.35       0  \n",
      "28          100187.43       0  \n",
      "29           53483.21       0  \n",
      "...               ...     ...  \n",
      "9970        119377.36       0  \n",
      "9971        166472.81       0  \n",
      "9972        171552.02       0  \n",
      "9973        157474.10       0  \n",
      "9974         13549.24       0  \n",
      "9975        196526.55       1  \n",
      "9976         84419.78       0  \n",
      "9977         24991.92       0  \n",
      "9978        191608.97       0  \n",
      "9979          2988.28       0  \n",
      "9980         99595.67       0  \n",
      "9981         53445.17       1  \n",
      "9982        115146.40       1  \n",
      "9983        151325.24       0  \n",
      "9984         51695.41       0  \n",
      "9985         96833.00       0  \n",
      "9986         34047.54       0  \n",
      "9987          1914.41       0  \n",
      "9988         49337.84       0  \n",
      "9989        179436.60       0  \n",
      "9990         53667.08       0  \n",
      "9991         69384.71       1  \n",
      "9992        195192.40       0  \n",
      "9993         29179.52       0  \n",
      "9994        167773.55       0  \n",
      "9995         96270.64       0  \n",
      "9996        101699.77       0  \n",
      "9997         42085.58       1  \n",
      "9998         92888.52       1  \n",
      "9999         38190.78       0  \n",
      "\n",
      "[10000 rows x 14 columns]\n"
     ]
    }
   ],
   "source": [
    "print(dataset)"
   ]
  },
  {
   "cell_type": "code",
   "execution_count": 86,
   "metadata": {},
   "outputs": [
    {
     "name": "stdout",
     "output_type": "stream",
     "text": [
      "[619 'France' 'Female' 42 2 0.0 1 1 1 101348.88]\n"
     ]
    }
   ],
   "source": [
    "X=dataset.iloc[:,3:13].values\n",
    "y=dataset.iloc[:,13].values\n",
    "print(X[0])"
   ]
  },
  {
   "cell_type": "code",
   "execution_count": 87,
   "metadata": {},
   "outputs": [
    {
     "name": "stderr",
     "output_type": "stream",
     "text": [
      "C:\\Users\\user\\Anaconda3\\envs\\tensorflow\\lib\\site-packages\\sklearn\\preprocessing\\_encoders.py:415: FutureWarning: The handling of integer data will change in version 0.22. Currently, the categories are determined based on the range [0, max(values)], while in the future they will be determined based on the unique values.\n",
      "If you want the future behaviour and silence this warning, you can specify \"categories='auto'\".\n",
      "In case you used a LabelEncoder before this OneHotEncoder to convert the categories to integers, then you can now use the OneHotEncoder directly.\n",
      "  warnings.warn(msg, FutureWarning)\n",
      "C:\\Users\\user\\Anaconda3\\envs\\tensorflow\\lib\\site-packages\\sklearn\\preprocessing\\_encoders.py:451: DeprecationWarning: The 'categorical_features' keyword is deprecated in version 0.20 and will be removed in 0.22. You can use the ColumnTransformer instead.\n",
      "  \"use the ColumnTransformer instead.\", DeprecationWarning)\n"
     ]
    }
   ],
   "source": [
    "#Encoding categorical data\n",
    "from sklearn.preprocessing import LabelEncoder,OneHotEncoder\n",
    "labelencoder_1=LabelEncoder()\n",
    "X[ : , 1] = labelencoder_1.fit_transform(X[ : , 1])\n",
    "labelencoder_2=LabelEncoder()\n",
    "X[ : , 2] = labelencoder_2.fit_transform(X[ : , 2])\n",
    "#creating dummy variable for countries(cuz france is not higher than germany)\n",
    "onehotencoder = OneHotEncoder(categorical_features = [1])\n",
    "X = onehotencoder.fit_transform(X).toarray()"
   ]
  },
  {
   "cell_type": "code",
   "execution_count": 88,
   "metadata": {},
   "outputs": [
    {
     "name": "stdout",
     "output_type": "stream",
     "text": [
      "0.0 0.0 619.0 0.0 42.0 2.0 0.0 1.0 1.0 1.0 101348.88 "
     ]
    }
   ],
   "source": [
    "#to avoid multicolinearity i.e. dummy variable trap(i.e. using m-1 variables for representing m dummy variable)\n",
    "X=X[:,1:]"
   ]
  },
  {
   "cell_type": "code",
   "execution_count": 6,
   "metadata": {},
   "outputs": [],
   "source": [
    "from sklearn.model_selection import train_test_split\n",
    "X_train, X_test, y_train, y_test = train_test_split(X, y, test_size = 0.2, random_state = 0)"
   ]
  },
  {
   "cell_type": "code",
   "execution_count": 7,
   "metadata": {},
   "outputs": [],
   "source": [
    "#applying feature scaling\n",
    "from sklearn.preprocessing import StandardScaler\n",
    "X_train = StandardScaler().fit_transform(X_train)\n",
    "X_test = StandardScaler().fit_transform(X_test)"
   ]
  },
  {
   "cell_type": "code",
   "execution_count": 8,
   "metadata": {},
   "outputs": [
    {
     "name": "stderr",
     "output_type": "stream",
     "text": [
      "Using TensorFlow backend.\n"
     ]
    }
   ],
   "source": [
    "#lets make the ann\n",
    "#the sequential module is required to intialize the neural network\n",
    "#the dense module is required to build the layers of our ANN\n",
    "import keras\n",
    "from keras.models import Sequential\n",
    "from keras.layers import Dense"
   ]
  },
  {
   "cell_type": "code",
   "execution_count": 9,
   "metadata": {},
   "outputs": [],
   "source": [
    "#initialising the ANN \n",
    "classifier = Sequential()"
   ]
  },
  {
   "cell_type": "code",
   "execution_count": 10,
   "metadata": {},
   "outputs": [],
   "source": [
    "#Adding the input layer and first hidden layer\n",
    "classifier.add(Dense(units=6, kernel_initializer='uniform', activation='relu', input_dim=11)) #here output_dim is no of hidden layer you want to add so we'll add (inp+out)/2"
   ]
  },
  {
   "cell_type": "code",
   "execution_count": 11,
   "metadata": {},
   "outputs": [],
   "source": [
    "\n",
    "#Adding the second hidden layer\n",
    "classifier.add(Dense(units=6, kernel_initializer='uniform', activation='relu')) #note: kernel_initializer='uniform' initializes the weights to small random no. close to zero"
   ]
  },
  {
   "cell_type": "code",
   "execution_count": 12,
   "metadata": {},
   "outputs": [],
   "source": [
    "\n",
    "#Adding the output layer \n",
    "classifier.add(Dense(units=1, kernel_initializer='uniform', activation='sigmoid'))"
   ]
  },
  {
   "cell_type": "code",
   "execution_count": 13,
   "metadata": {},
   "outputs": [],
   "source": [
    "classifier.compile(optimizer='adam', loss='binary_crossentropy', metrics=['accuracy'])#here adam optimizer is schoastic gradient descent algo and if our dependent variabale has binary outcome then the logarathmic loss function is called binary_crossentropy and if the dependent variable has more than two categories then it is called 'categorical_crossentropy' and the metrics is for evaluating our performance after each epoch"
   ]
  },
  {
   "cell_type": "code",
   "execution_count": 14,
   "metadata": {},
   "outputs": [
    {
     "name": "stdout",
     "output_type": "stream",
     "text": [
      "Epoch 1/100\n",
      "8000/8000 [==============================] - 4s 456us/step - loss: 0.4868 - acc: 0.7957\n",
      "Epoch 2/100\n",
      "8000/8000 [==============================] - 2s 195us/step - loss: 0.4295 - acc: 0.7960\n",
      "Epoch 3/100\n",
      "8000/8000 [==============================] - 1s 165us/step - loss: 0.4261 - acc: 0.7960\n",
      "Epoch 4/100\n",
      "8000/8000 [==============================] - 1s 130us/step - loss: 0.4222 - acc: 0.8102\n",
      "Epoch 5/100\n",
      "8000/8000 [==============================] - 1s 129us/step - loss: 0.4196 - acc: 0.8202 0s - loss: 0\n",
      "Epoch 6/100\n",
      "8000/8000 [==============================] - 1s 127us/step - loss: 0.4171 - acc: 0.8237\n",
      "Epoch 7/100\n",
      "8000/8000 [==============================] - 2s 197us/step - loss: 0.4153 - acc: 0.8262\n",
      "Epoch 8/100\n",
      "8000/8000 [==============================] - 2s 213us/step - loss: 0.4138 - acc: 0.8291\n",
      "Epoch 9/100\n",
      "8000/8000 [==============================] - 1s 152us/step - loss: 0.4125 - acc: 0.8299\n",
      "Epoch 10/100\n",
      "8000/8000 [==============================] - 1s 170us/step - loss: 0.4112 - acc: 0.8316\n",
      "Epoch 11/100\n",
      "8000/8000 [==============================] - 1s 134us/step - loss: 0.4106 - acc: 0.8342\n",
      "Epoch 12/100\n",
      "8000/8000 [==============================] - 1s 140us/step - loss: 0.4096 - acc: 0.8315\n",
      "Epoch 13/100\n",
      "8000/8000 [==============================] - 1s 129us/step - loss: 0.4091 - acc: 0.8344\n",
      "Epoch 14/100\n",
      "8000/8000 [==============================] - 1s 130us/step - loss: 0.4085 - acc: 0.8345\n",
      "Epoch 15/100\n",
      "8000/8000 [==============================] - 1s 130us/step - loss: 0.4079 - acc: 0.8324\n",
      "Epoch 16/100\n",
      "8000/8000 [==============================] - 1s 134us/step - loss: 0.4075 - acc: 0.8332\n",
      "Epoch 17/100\n",
      "8000/8000 [==============================] - 1s 132us/step - loss: 0.4071 - acc: 0.8350\n",
      "Epoch 18/100\n",
      "8000/8000 [==============================] - 1s 133us/step - loss: 0.4070 - acc: 0.8339\n",
      "Epoch 19/100\n",
      "8000/8000 [==============================] - 1s 139us/step - loss: 0.4057 - acc: 0.8330\n",
      "Epoch 20/100\n",
      "8000/8000 [==============================] - 1s 133us/step - loss: 0.4058 - acc: 0.8354\n",
      "Epoch 21/100\n",
      "8000/8000 [==============================] - 1s 138us/step - loss: 0.4059 - acc: 0.8352\n",
      "Epoch 22/100\n",
      "8000/8000 [==============================] - 1s 131us/step - loss: 0.4055 - acc: 0.8355\n",
      "Epoch 23/100\n",
      "8000/8000 [==============================] - 1s 139us/step - loss: 0.4052 - acc: 0.8357\n",
      "Epoch 24/100\n",
      "8000/8000 [==============================] - 1s 183us/step - loss: 0.4050 - acc: 0.8356\n",
      "Epoch 25/100\n",
      "8000/8000 [==============================] - 1s 176us/step - loss: 0.4045 - acc: 0.8356\n",
      "Epoch 26/100\n",
      "8000/8000 [==============================] - 1s 155us/step - loss: 0.4043 - acc: 0.8350\n",
      "Epoch 27/100\n",
      "8000/8000 [==============================] - 1s 152us/step - loss: 0.4041 - acc: 0.8346\n",
      "Epoch 28/100\n",
      "8000/8000 [==============================] - 1s 164us/step - loss: 0.4037 - acc: 0.8357\n",
      "Epoch 29/100\n",
      "8000/8000 [==============================] - 1s 176us/step - loss: 0.4035 - acc: 0.8341\n",
      "Epoch 30/100\n",
      "8000/8000 [==============================] - 1s 160us/step - loss: 0.4037 - acc: 0.8340\n",
      "Epoch 31/100\n",
      "8000/8000 [==============================] - 2s 193us/step - loss: 0.4035 - acc: 0.8342\n",
      "Epoch 32/100\n",
      "8000/8000 [==============================] - 1s 183us/step - loss: 0.4037 - acc: 0.8352\n",
      "Epoch 33/100\n",
      "8000/8000 [==============================] - 2s 203us/step - loss: 0.4032 - acc: 0.8346\n",
      "Epoch 34/100\n",
      "8000/8000 [==============================] - 2s 209us/step - loss: 0.4028 - acc: 0.8337\n",
      "Epoch 35/100\n",
      "8000/8000 [==============================] - 1s 131us/step - loss: 0.4030 - acc: 0.8345\n",
      "Epoch 36/100\n",
      "8000/8000 [==============================] - 1s 137us/step - loss: 0.4026 - acc: 0.8350\n",
      "Epoch 37/100\n",
      "8000/8000 [==============================] - 1s 150us/step - loss: 0.4014 - acc: 0.8350\n",
      "Epoch 38/100\n",
      "8000/8000 [==============================] - 1s 141us/step - loss: 0.4030 - acc: 0.8337\n",
      "Epoch 39/100\n",
      "8000/8000 [==============================] - 2s 195us/step - loss: 0.4020 - acc: 0.8340\n",
      "Epoch 40/100\n",
      "8000/8000 [==============================] - 1s 161us/step - loss: 0.4011 - acc: 0.8344\n",
      "Epoch 41/100\n",
      "8000/8000 [==============================] - 2s 191us/step - loss: 0.4014 - acc: 0.8346\n",
      "Epoch 42/100\n",
      "8000/8000 [==============================] - 1s 177us/step - loss: 0.4009 - acc: 0.8345\n",
      "Epoch 43/100\n",
      "8000/8000 [==============================] - 1s 187us/step - loss: 0.3999 - acc: 0.8340\n",
      "Epoch 44/100\n",
      "8000/8000 [==============================] - 1s 134us/step - loss: 0.3999 - acc: 0.8355\n",
      "Epoch 45/100\n",
      "8000/8000 [==============================] - 1s 147us/step - loss: 0.3997 - acc: 0.8339\n",
      "Epoch 46/100\n",
      "8000/8000 [==============================] - 1s 128us/step - loss: 0.3994 - acc: 0.8352\n",
      "Epoch 47/100\n",
      "8000/8000 [==============================] - 1s 131us/step - loss: 0.3982 - acc: 0.8342\n",
      "Epoch 48/100\n",
      "8000/8000 [==============================] - 1s 132us/step - loss: 0.3987 - acc: 0.8345\n",
      "Epoch 49/100\n",
      "8000/8000 [==============================] - 1s 130us/step - loss: 0.3981 - acc: 0.8342\n",
      "Epoch 50/100\n",
      "8000/8000 [==============================] - 1s 134us/step - loss: 0.3981 - acc: 0.8357\n",
      "Epoch 51/100\n",
      "8000/8000 [==============================] - 1s 176us/step - loss: 0.3973 - acc: 0.8352\n",
      "Epoch 52/100\n",
      "8000/8000 [==============================] - 1s 170us/step - loss: 0.3975 - acc: 0.8355\n",
      "Epoch 53/100\n",
      "8000/8000 [==============================] - 1s 165us/step - loss: 0.3973 - acc: 0.8351\n",
      "Epoch 54/100\n",
      "8000/8000 [==============================] - 1s 165us/step - loss: 0.3967 - acc: 0.8350\n",
      "Epoch 55/100\n",
      "8000/8000 [==============================] - 1s 163us/step - loss: 0.3965 - acc: 0.8369\n",
      "Epoch 56/100\n",
      "8000/8000 [==============================] - 2s 197us/step - loss: 0.3966 - acc: 0.8347\n",
      "Epoch 57/100\n",
      "8000/8000 [==============================] - 1s 178us/step - loss: 0.3964 - acc: 0.8350\n",
      "Epoch 58/100\n",
      "8000/8000 [==============================] - 1s 135us/step - loss: 0.3962 - acc: 0.8356\n",
      "Epoch 59/100\n",
      "8000/8000 [==============================] - 1s 134us/step - loss: 0.3960 - acc: 0.8370\n",
      "Epoch 60/100\n",
      "8000/8000 [==============================] - 1s 137us/step - loss: 0.3962 - acc: 0.8335\n",
      "Epoch 61/100\n",
      "8000/8000 [==============================] - 2s 200us/step - loss: 0.3952 - acc: 0.8342\n",
      "Epoch 62/100\n",
      "8000/8000 [==============================] - 1s 180us/step - loss: 0.3956 - acc: 0.8362\n",
      "Epoch 63/100\n",
      "8000/8000 [==============================] - 1s 171us/step - loss: 0.3951 - acc: 0.8359\n",
      "Epoch 64/100\n",
      "8000/8000 [==============================] - 1s 161us/step - loss: 0.3958 - acc: 0.8349\n",
      "Epoch 65/100\n",
      "8000/8000 [==============================] - 1s 159us/step - loss: 0.3949 - acc: 0.8374\n",
      "Epoch 66/100\n",
      "8000/8000 [==============================] - 2s 199us/step - loss: 0.3948 - acc: 0.8372\n",
      "Epoch 67/100\n",
      "8000/8000 [==============================] - 1s 145us/step - loss: 0.3950 - acc: 0.8364\n",
      "Epoch 68/100\n",
      "8000/8000 [==============================] - 1s 131us/step - loss: 0.3948 - acc: 0.8349\n",
      "Epoch 69/100\n",
      "8000/8000 [==============================] - 1s 134us/step - loss: 0.3955 - acc: 0.8360\n",
      "Epoch 70/100\n",
      "8000/8000 [==============================] - 1s 149us/step - loss: 0.3948 - acc: 0.8360\n",
      "Epoch 71/100\n",
      "8000/8000 [==============================] - 2s 188us/step - loss: 0.3950 - acc: 0.8367\n",
      "Epoch 72/100\n",
      "8000/8000 [==============================] - 1s 158us/step - loss: 0.3942 - acc: 0.8375\n",
      "Epoch 73/100\n",
      "8000/8000 [==============================] - 1s 161us/step - loss: 0.3948 - acc: 0.8372\n",
      "Epoch 74/100\n",
      "8000/8000 [==============================] - 1s 152us/step - loss: 0.3944 - acc: 0.8352\n",
      "Epoch 75/100\n",
      "8000/8000 [==============================] - 1s 160us/step - loss: 0.3945 - acc: 0.8365\n",
      "Epoch 76/100\n",
      "8000/8000 [==============================] - 1s 162us/step - loss: 0.3942 - acc: 0.8374\n",
      "Epoch 77/100\n",
      "8000/8000 [==============================] - 1s 157us/step - loss: 0.3943 - acc: 0.8359\n",
      "Epoch 78/100\n",
      "8000/8000 [==============================] - 1s 160us/step - loss: 0.3949 - acc: 0.8357\n",
      "Epoch 79/100\n",
      "8000/8000 [==============================] - 1s 159us/step - loss: 0.3942 - acc: 0.8379\n",
      "Epoch 80/100\n",
      "8000/8000 [==============================] - 1s 168us/step - loss: 0.3942 - acc: 0.8344\n",
      "Epoch 81/100\n",
      "8000/8000 [==============================] - 1s 159us/step - loss: 0.3940 - acc: 0.8361\n",
      "Epoch 82/100\n"
     ]
    },
    {
     "name": "stdout",
     "output_type": "stream",
     "text": [
      "8000/8000 [==============================] - 1s 139us/step - loss: 0.3944 - acc: 0.8360\n",
      "Epoch 83/100\n",
      "8000/8000 [==============================] - 1s 139us/step - loss: 0.3943 - acc: 0.8371\n",
      "Epoch 84/100\n",
      "8000/8000 [==============================] - 1s 146us/step - loss: 0.3936 - acc: 0.8371\n",
      "Epoch 85/100\n",
      "8000/8000 [==============================] - 1s 156us/step - loss: 0.3940 - acc: 0.8371\n",
      "Epoch 86/100\n",
      "8000/8000 [==============================] - 1s 170us/step - loss: 0.3938 - acc: 0.8376\n",
      "Epoch 87/100\n",
      "8000/8000 [==============================] - 2s 211us/step - loss: 0.3943 - acc: 0.8356\n",
      "Epoch 88/100\n",
      "8000/8000 [==============================] - 1s 141us/step - loss: 0.3942 - acc: 0.8371\n",
      "Epoch 89/100\n",
      "8000/8000 [==============================] - 1s 139us/step - loss: 0.3938 - acc: 0.8364\n",
      "Epoch 90/100\n",
      "8000/8000 [==============================] - 1s 167us/step - loss: 0.3940 - acc: 0.8370\n",
      "Epoch 91/100\n",
      "8000/8000 [==============================] - 1s 134us/step - loss: 0.3939 - acc: 0.8354\n",
      "Epoch 92/100\n",
      "8000/8000 [==============================] - 1s 135us/step - loss: 0.3932 - acc: 0.8380\n",
      "Epoch 93/100\n",
      "8000/8000 [==============================] - 1s 139us/step - loss: 0.3939 - acc: 0.8369\n",
      "Epoch 94/100\n",
      "8000/8000 [==============================] - 1s 139us/step - loss: 0.3944 - acc: 0.8349\n",
      "Epoch 95/100\n",
      "8000/8000 [==============================] - 1s 140us/step - loss: 0.3935 - acc: 0.8372\n",
      "Epoch 96/100\n",
      "8000/8000 [==============================] - 1s 133us/step - loss: 0.3935 - acc: 0.8385\n",
      "Epoch 97/100\n",
      "8000/8000 [==============================] - 1s 132us/step - loss: 0.3934 - acc: 0.8374\n",
      "Epoch 98/100\n",
      "8000/8000 [==============================] - 1s 139us/step - loss: 0.3934 - acc: 0.8366\n",
      "Epoch 99/100\n",
      "8000/8000 [==============================] - 1s 136us/step - loss: 0.3936 - acc: 0.8364\n",
      "Epoch 100/100\n",
      "8000/8000 [==============================] - 1s 139us/step - loss: 0.3939 - acc: 0.8374\n"
     ]
    },
    {
     "data": {
      "text/plain": [
       "<keras.callbacks.History at 0x21102bcbf60>"
      ]
     },
     "execution_count": 14,
     "metadata": {},
     "output_type": "execute_result"
    }
   ],
   "source": [
    "#fitting the Ann to the training set\n",
    "classifier.fit(X_train, y_train,batch_size=10,epochs=100)"
   ]
  },
  {
   "cell_type": "code",
   "execution_count": 29,
   "metadata": {},
   "outputs": [
    {
     "name": "stdout",
     "output_type": "stream",
     "text": [
      "[ 1.62776996 -0.57427105 -0.56129438 -1.11339196 -0.39401698  0.9869706\n",
      "  0.85962168 -0.8733766   0.66011376  0.97628121  1.62185911]\n"
     ]
    }
   ],
   "source": [
    "#predicting the Test set results\n",
    "print(X_test[0])\n",
    "y_pred=classifier.predict(X_test)"
   ]
  },
  {
   "cell_type": "code",
   "execution_count": 19,
   "metadata": {},
   "outputs": [
    {
     "name": "stdout",
     "output_type": "stream",
     "text": [
      "[[0.19719225]\n",
      " [0.3298049 ]\n",
      " [0.14546517]\n",
      " ...\n",
      " [0.20677757]\n",
      " [0.11227079]\n",
      " [0.13014305]]\n"
     ]
    }
   ],
   "source": [
    "print(y_pred)"
   ]
  },
  {
   "cell_type": "code",
   "execution_count": 20,
   "metadata": {},
   "outputs": [],
   "source": [
    "#converting y_pred into True and False based on 50% threshold in order to compute cm\n",
    "y_pred =(y_pred>0.5)"
   ]
  },
  {
   "cell_type": "code",
   "execution_count": 21,
   "metadata": {},
   "outputs": [
    {
     "name": "stdout",
     "output_type": "stream",
     "text": [
      "[[False]\n",
      " [False]\n",
      " [False]\n",
      " ...\n",
      " [False]\n",
      " [False]\n",
      " [False]]\n"
     ]
    }
   ],
   "source": [
    "print(y_pred)"
   ]
  },
  {
   "cell_type": "code",
   "execution_count": 22,
   "metadata": {},
   "outputs": [],
   "source": [
    "#Making the confusion matrix\n",
    "from sklearn.metrics import confusion_matrix \n",
    "cm=confusion_matrix(y_test, y_pred)"
   ]
  },
  {
   "cell_type": "code",
   "execution_count": 23,
   "metadata": {},
   "outputs": [
    {
     "name": "stdout",
     "output_type": "stream",
     "text": [
      "[[1554   41]\n",
      " [ 262  143]]\n"
     ]
    }
   ],
   "source": [
    "print(cm)"
   ]
  },
  {
   "cell_type": "code",
   "execution_count": 25,
   "metadata": {},
   "outputs": [
    {
     "name": "stdout",
     "output_type": "stream",
     "text": [
      "0.8485\n"
     ]
    }
   ],
   "source": [
    "#calculating accuracy of model\n",
    "print((1554+143)/2000)"
   ]
  },
  {
   "cell_type": "code",
   "execution_count": 27,
   "metadata": {},
   "outputs": [],
   "source": [
    "#predicting a single new observation\n",
    "# Using our ANN model to predict if the customer with the following informations will leave the bank: \n",
    "\n",
    "# Geography: France\n",
    "# Credit Score: 600\n",
    "# Gender: Male\n",
    "# Age: 40 years old\n",
    "# Tenure: 3 years\n",
    "# Balance: $60000\n",
    "# Number of Products: 2\n",
    "# Does this customer have a credit card ? Yes\n",
    "# Is this customer an Active Member: Yes\n",
    "# Estimated Salary: $50000\n",
    "# So should we say goodbye to that customer ?"
   ]
  },
  {
   "cell_type": "code",
   "execution_count": 89,
   "metadata": {},
   "outputs": [
    {
     "name": "stdout",
     "output_type": "stream",
     "text": [
      "[[    0]\n",
      " [    0]\n",
      " [  600]\n",
      " [    1]\n",
      " [   40]\n",
      " [    3]\n",
      " [60000]\n",
      " [    2]\n",
      " [    1]\n",
      " [    1]\n",
      " [50000]]\n"
     ]
    }
   ],
   "source": [
    "X_sample = np.array([0 , 0, 600, 1, 40,  3, 60000, 2,  1,  1, 50000])\n",
    "X_sample = X_sample.reshape(-1,1)\n",
    "print(X_sample)"
   ]
  },
  {
   "cell_type": "code",
   "execution_count": 90,
   "metadata": {},
   "outputs": [],
   "source": [
    "X_sample = StandardScaler().fit_transform(X_sample)"
   ]
  },
  {
   "cell_type": "code",
   "execution_count": 91,
   "metadata": {},
   "outputs": [
    {
     "name": "stdout",
     "output_type": "stream",
     "text": [
      "[[-0.472 -0.472 -0.444 -0.472 -0.471 -0.472  2.345 -0.472 -0.472 -0.472\n",
      "   1.876]]\n"
     ]
    }
   ],
   "source": [
    "X_sample = X_sample.reshape(1,-1)\n",
    "print(X_sample)"
   ]
  },
  {
   "cell_type": "code",
   "execution_count": 92,
   "metadata": {},
   "outputs": [],
   "source": [
    "y_pred_sample=classifier.predict(X_sample)"
   ]
  },
  {
   "cell_type": "code",
   "execution_count": 93,
   "metadata": {},
   "outputs": [],
   "source": [
    "y_pred_sample =(y_pred_sample>0.5)"
   ]
  },
  {
   "cell_type": "code",
   "execution_count": 95,
   "metadata": {},
   "outputs": [
    {
     "name": "stdout",
     "output_type": "stream",
     "text": [
      "[[False]]\n"
     ]
    }
   ],
   "source": [
    "print(y_pred_sample)"
   ]
  },
  {
   "cell_type": "code",
   "execution_count": null,
   "metadata": {},
   "outputs": [],
   "source": [
    "#hence the customer with following info stays in the bank"
   ]
  }
 ],
 "metadata": {
  "kernelspec": {
   "display_name": "Python 3.6 (tensorflow)",
   "language": "python",
   "name": "tensorflow"
  },
  "language_info": {
   "codemirror_mode": {
    "name": "ipython",
    "version": 3
   },
   "file_extension": ".py",
   "mimetype": "text/x-python",
   "name": "python",
   "nbconvert_exporter": "python",
   "pygments_lexer": "ipython3",
   "version": "3.6.8"
  }
 },
 "nbformat": 4,
 "nbformat_minor": 2
}
