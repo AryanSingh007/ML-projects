{
 "cells": [
  {
   "cell_type": "code",
   "execution_count": 1,
   "metadata": {},
   "outputs": [],
   "source": [
    "import numpy as np\n",
    "import matplotlib.pyplot as plt\n",
    "from matplotlib import style\n",
    "style.use('ggplot')\n",
    "import random"
   ]
  },
  {
   "cell_type": "code",
   "execution_count": 2,
   "metadata": {},
   "outputs": [],
   "source": [
    "# xs = np.array([1,2,3,4,5,6])\n",
    "# ys = np.array([5,4,6,5,6,7])\n",
    "#now lets create a dataset and run linear regression on it\n",
    "def create_dataset(n,variance,step=2,correlation=False):\n",
    "    val=1\n",
    "    ys = []\n",
    "    for i in range(n):\n",
    "        y = val + random.randrange(-variance, variance)\n",
    "        ys.append(y)\n",
    "        if correlation and correlation == 'pos':\n",
    "            val+=step\n",
    "        elif correlation and correlation == 'neg':\n",
    "            val -= step\n",
    "    xs = [i for i in range(len(ys))]\n",
    "    return np.array(xs), np.array(ys)"
   ]
  },
  {
   "cell_type": "code",
   "execution_count": 3,
   "metadata": {},
   "outputs": [
    {
     "data": {
      "image/png": "[encoded data removed]",
      "text/plain": [
       "<matplotlib.figure.Figure at 0xa1ab4f0>"
      ]
     },
     "metadata": {
      "needs_background": "light"
     },
     "output_type": "display_data"
    }
   ],
   "source": [
    "xs,ys = create_dataset(40, 30, 2, correlation='pos')\n",
    "#plotting the dataset\n",
    "plt.scatter(xs,ys)\n",
    "plt.show()"
   ]
  },
  {
   "cell_type": "code",
   "execution_count": 4,
   "metadata": {},
   "outputs": [],
   "source": [
    "#lets try to figure out best fit line for above data"
   ]
  },
  {
   "cell_type": "code",
   "execution_count": 5,
   "metadata": {},
   "outputs": [],
   "source": [
    "def best_fit_m_b(xs,ys):\n",
    "    m = (((np.mean(xs)*np.mean(ys))-np.mean(xs*ys))/(np.mean(xs)**2-np.mean(xs**2)))\n",
    "    b = np.mean(ys)-m*np.mean(xs)\n",
    "    return m,b"
   ]
  },
  {
   "cell_type": "code",
   "execution_count": 6,
   "metadata": {},
   "outputs": [
    {
     "name": "stdout",
     "output_type": "stream",
     "text": [
      "1.7360225140712948 7.64756097560975\n"
     ]
    }
   ],
   "source": [
    "m,b = best_fit_m_b(xs,ys)\n",
    "print(m,b)"
   ]
  },
  {
   "cell_type": "code",
   "execution_count": 7,
   "metadata": {},
   "outputs": [],
   "source": [
    "#so lets make our regression line by plotting ys for every xs\n",
    "regression_line = [(m*x)+b for x in xs]"
   ]
  },
  {
   "cell_type": "code",
   "execution_count": 8,
   "metadata": {},
   "outputs": [],
   "source": [
    "x_pred = 8\n",
    "y_pred = m*x_pred + b"
   ]
  },
  {
   "cell_type": "code",
   "execution_count": 9,
   "metadata": {},
   "outputs": [
    {
     "data": {
      "image/png": "[encoded data removed]",
      "text/plain": [
       "<matplotlib.figure.Figure at 0xa1b0a10>"
      ]
     },
     "metadata": {
      "needs_background": "light"
     },
     "output_type": "display_data"
    }
   ],
   "source": [
    "y_avg = [np.mean(ys) for y in ys]\n",
    "plt.scatter(xs,ys)\n",
    "plt.xlabel('x')\n",
    "plt.ylabel('y')\n",
    "# plt.scatter(x_pred,y_pred,color = 'yellow')\n",
    "plt.plot(xs,regression_line,color = 'red',label='best_fit')\n",
    "plt.plot(xs,y_avg,color='blue',label='y_avg')\n",
    "plt.legend()\n",
    "plt.show()"
   ]
  },
  {
   "cell_type": "code",
   "execution_count": 10,
   "metadata": {},
   "outputs": [],
   "source": [
    "#calculating the goodness of fit by R**2 method\n",
    "def sq_error(y_req,ys):\n",
    "    return sum((ys-y_req)**2)\n",
    "     \n",
    "y_minus_y_hat = []\n",
    "def r_squared(ys,y_avg,y_reg):\n",
    "    ss_tot = sq_error(y_avg,ys)\n",
    "    ss_res = sq_error(y_reg,ys)\n",
    "#     errors_ka_square_from_y_avg_line = [(y-np.mean(ys))**2 for y in ys]#errors_ka_square_from_y_avg_line \n",
    "# #     for a,b in zip(regression_line,ys):\n",
    "# #         y_minus_y_hat.append((b-a)**2)\n",
    "#     ss_res = sum(y_minus_y_hat) \n",
    "    r_sq = 1 - (ss_res/ss_tot)\n",
    "    return r_sq"
   ]
  },
  {
   "cell_type": "code",
   "execution_count": 11,
   "metadata": {},
   "outputs": [
    {
     "name": "stdout",
     "output_type": "stream",
     "text": [
      "0.7010918436933349\n"
     ]
    }
   ],
   "source": [
    "r_sq = r_squared(ys,y_avg,regression_line)\n",
    "print(r_sq)"
   ]
  },
  {
   "cell_type": "code",
   "execution_count": null,
   "metadata": {},
   "outputs": [],
   "source": []
  },
  {
   "cell_type": "code",
   "execution_count": null,
   "metadata": {},
   "outputs": [],
   "source": []
  }
 ],
 "metadata": {
  "kernelspec": {
   "display_name": "Python 3",
   "language": "python",
   "name": "python3"
  },
  "language_info": {
   "codemirror_mode": {
    "name": "ipython",
    "version": 3
   },
   "file_extension": ".py",
   "mimetype": "text/x-python",
   "name": "python",
   "nbconvert_exporter": "python",
   "pygments_lexer": "ipython3",
   "version": "3.6.4"
  }
 },
 "nbformat": 4,
 "nbformat_minor": 2
}
