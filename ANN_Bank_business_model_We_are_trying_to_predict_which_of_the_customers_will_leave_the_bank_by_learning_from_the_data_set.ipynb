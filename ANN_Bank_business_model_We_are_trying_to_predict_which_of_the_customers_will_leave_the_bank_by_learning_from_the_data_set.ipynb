{
  "nbformat": 4,
  "nbformat_minor": 0,
  "metadata": {
    "colab": {
      "name": "ANN Bank business model - We are trying to predict which of the customers will leave the bank by learning from the data set",
      "version": "0.3.2",
      "provenance": []
    },
    "kernelspec": {
      "name": "python3",
      "display_name": "Python 3"
    }
  },
  "cells": [
    {
      "cell_type": "code",
      "metadata": {
        "id": "yVZxQ_txxbiu",
        "colab_type": "code",
        "colab": {}
      },
      "source": [
        "#part 1 - Data Preprocessing\n",
        "import numpy as np\n",
        "import matplotlib.pyplot as plt\n",
        "import pandas as pd\n",
        "dataset=pd.read_csv('Churn_Modelling.csv')"
      ],
      "execution_count": 0,
      "outputs": []
    },
    {
      "cell_type": "code",
      "metadata": {
        "id": "QnpCV64ZyKwb",
        "colab_type": "code",
        "outputId": "3ef7d79c-03a1-43a1-8253-05f78b7eacc5",
        "colab": {
          "base_uri": "https://localhost:8080/",
          "height": 1105
        }
      },
      "source": [
        "print(dataset)"
      ],
      "execution_count": 0,
      "outputs": [
        {
          "output_type": "stream",
          "text": [
            "      RowNumber  CustomerId  ... EstimatedSalary  Exited\n",
            "0             1    15634602  ...       101348.88       1\n",
            "1             2    15647311  ...       112542.58       0\n",
            "2             3    15619304  ...       113931.57       1\n",
            "3             4    15701354  ...        93826.63       0\n",
            "4             5    15737888  ...        79084.10       0\n",
            "5             6    15574012  ...       149756.71       1\n",
            "6             7    15592531  ...        10062.80       0\n",
            "7             8    15656148  ...       119346.88       1\n",
            "8             9    15792365  ...        74940.50       0\n",
            "9            10    15592389  ...        71725.73       0\n",
            "10           11    15767821  ...        80181.12       0\n",
            "11           12    15737173  ...        76390.01       0\n",
            "12           13    15632264  ...        26260.98       0\n",
            "13           14    15691483  ...       190857.79       0\n",
            "14           15    15600882  ...        65951.65       0\n",
            "15           16    15643966  ...        64327.26       0\n",
            "16           17    15737452  ...         5097.67       1\n",
            "17           18    15788218  ...        14406.41       0\n",
            "18           19    15661507  ...       158684.81       0\n",
            "19           20    15568982  ...        54724.03       0\n",
            "20           21    15577657  ...       170886.17       0\n",
            "21           22    15597945  ...       138555.46       0\n",
            "22           23    15699309  ...       118913.53       1\n",
            "23           24    15725737  ...         8487.75       0\n",
            "24           25    15625047  ...       187616.16       0\n",
            "25           26    15738191  ...       124508.29       0\n",
            "26           27    15736816  ...       170041.95       0\n",
            "27           28    15700772  ...        38433.35       0\n",
            "28           29    15728693  ...       100187.43       0\n",
            "29           30    15656300  ...        53483.21       0\n",
            "...         ...         ...  ...             ...     ...\n",
            "9970       9971    15587133  ...       119377.36       0\n",
            "9971       9972    15721377  ...       166472.81       0\n",
            "9972       9973    15747927  ...       171552.02       0\n",
            "9973       9974    15806455  ...       157474.10       0\n",
            "9974       9975    15695474  ...        13549.24       0\n",
            "9975       9976    15666295  ...       196526.55       1\n",
            "9976       9977    15656062  ...        84419.78       0\n",
            "9977       9978    15579969  ...        24991.92       0\n",
            "9978       9979    15703563  ...       191608.97       0\n",
            "9979       9980    15692664  ...         2988.28       0\n",
            "9980       9981    15719276  ...        99595.67       0\n",
            "9981       9982    15672754  ...        53445.17       1\n",
            "9982       9983    15768163  ...       115146.40       1\n",
            "9983       9984    15656710  ...       151325.24       0\n",
            "9984       9985    15696175  ...        51695.41       0\n",
            "9985       9986    15586914  ...        96833.00       0\n",
            "9986       9987    15581736  ...        34047.54       0\n",
            "9987       9988    15588839  ...         1914.41       0\n",
            "9988       9989    15589329  ...        49337.84       0\n",
            "9989       9990    15605622  ...       179436.60       0\n",
            "9990       9991    15798964  ...        53667.08       0\n",
            "9991       9992    15769959  ...        69384.71       1\n",
            "9992       9993    15657105  ...       195192.40       0\n",
            "9993       9994    15569266  ...        29179.52       0\n",
            "9994       9995    15719294  ...       167773.55       0\n",
            "9995       9996    15606229  ...        96270.64       0\n",
            "9996       9997    15569892  ...       101699.77       0\n",
            "9997       9998    15584532  ...        42085.58       1\n",
            "9998       9999    15682355  ...        92888.52       1\n",
            "9999      10000    15628319  ...        38190.78       0\n",
            "\n",
            "[10000 rows x 14 columns]\n"
          ],
          "name": "stdout"
        }
      ]
    },
    {
      "cell_type": "code",
      "metadata": {
        "id": "IRUFNQeUyMuJ",
        "colab_type": "code",
        "colab": {}
      },
      "source": [
        "X=dataset.iloc[:,3:13].values\n",
        "y=dataset.iloc[:,13].values\n"
      ],
      "execution_count": 0,
      "outputs": []
    },
    {
      "cell_type": "code",
      "metadata": {
        "id": "ROL15JN_yR1A",
        "colab_type": "code",
        "outputId": "fdb13b57-de3f-493a-a791-e6218d2386da",
        "colab": {
          "base_uri": "https://localhost:8080/",
          "height": 139
        }
      },
      "source": [
        "#Encoding categorical data\n",
        "from sklearn.preprocessing import LabelEncoder,OneHotEncoder\n",
        "labelencoder_1=LabelEncoder()\n",
        "X[ : , 1] = labelencoder_1.fit_transform(X[ : , 1])\n",
        "labelencoder_2=LabelEncoder()\n",
        "X[ : , 2] = labelencoder_2.fit_transform(X[ : , 2])\n",
        "#creating dummy variable for countries(cuz france is not higher than germany)\n",
        "onehotencoder = OneHotEncoder(categorical_features = [1])\n",
        "X = onehotencoder.fit_transform(X).toarray()"
      ],
      "execution_count": 0,
      "outputs": [
        {
          "output_type": "stream",
          "text": [
            "/usr/local/lib/python3.6/dist-packages/sklearn/preprocessing/_encoders.py:415: FutureWarning: The handling of integer data will change in version 0.22. Currently, the categories are determined based on the range [0, max(values)], while in the future they will be determined based on the unique values.\n",
            "If you want the future behaviour and silence this warning, you can specify \"categories='auto'\".\n",
            "In case you used a LabelEncoder before this OneHotEncoder to convert the categories to integers, then you can now use the OneHotEncoder directly.\n",
            "  warnings.warn(msg, FutureWarning)\n",
            "/usr/local/lib/python3.6/dist-packages/sklearn/preprocessing/_encoders.py:451: DeprecationWarning: The 'categorical_features' keyword is deprecated in version 0.20 and will be removed in 0.22. You can use the ColumnTransformer instead.\n",
            "  \"use the ColumnTransformer instead.\", DeprecationWarning)\n"
          ],
          "name": "stderr"
        }
      ]
    },
    {
      "cell_type": "code",
      "metadata": {
        "id": "_zoFsOhIyYfQ",
        "colab_type": "code",
        "colab": {}
      },
      "source": [
        "#to avoid multicolinearity i.e. dummy variable trap(i.e. using m-1 variables for representing m dummy variable)\n",
        "X=X[:,1:]"
      ],
      "execution_count": 0,
      "outputs": []
    },
    {
      "cell_type": "code",
      "metadata": {
        "id": "lRWvMCaByc8I",
        "colab_type": "code",
        "colab": {}
      },
      "source": [
        "from sklearn.model_selection import train_test_split\n",
        "X_train, X_test, y_train, y_test = train_test_split(X, y, test_size = 0.2, random_state = 0)"
      ],
      "execution_count": 0,
      "outputs": []
    },
    {
      "cell_type": "code",
      "metadata": {
        "id": "4TyHsTmOyfy7",
        "colab_type": "code",
        "colab": {}
      },
      "source": [
        "#applying feature scaling\n",
        "from sklearn.preprocessing import StandardScaler\n",
        "X_train = StandardScaler().fit_transform(X_train)\n",
        "X_test = StandardScaler().fit_transform(X_test)"
      ],
      "execution_count": 0,
      "outputs": []
    },
    {
      "cell_type": "code",
      "metadata": {
        "id": "1SwxTb65yhzf",
        "colab_type": "code",
        "outputId": "358a1d5f-0ca5-4ee4-90f2-9b0be4cc5eb3",
        "colab": {
          "base_uri": "https://localhost:8080/",
          "height": 34
        }
      },
      "source": [
        "#lets make the ann\n",
        "#the sequential module is required to intialize the neural network\n",
        "#the dense module is required to build the layers of our ANN\n",
        "import keras\n",
        "from keras.models import Sequential\n",
        "from keras.layers import Dense"
      ],
      "execution_count": 0,
      "outputs": [
        {
          "output_type": "stream",
          "text": [
            "Using TensorFlow backend.\n"
          ],
          "name": "stderr"
        }
      ]
    },
    {
      "cell_type": "code",
      "metadata": {
        "id": "7NJm1C5-ykxj",
        "colab_type": "code",
        "colab": {}
      },
      "source": [
        "#initialising the ANN \n",
        "classifier = Sequential()"
      ],
      "execution_count": 0,
      "outputs": []
    },
    {
      "cell_type": "code",
      "metadata": {
        "id": "q_OW4X3B4CJU",
        "colab_type": "code",
        "outputId": "3d700d91-9304-483f-beb4-2e764a481d0a",
        "colab": {
          "base_uri": "https://localhost:8080/",
          "height": 122
        }
      },
      "source": [
        "#Adding the input layer and first hidden layer\n",
        "classifier.add(Dense(output_dim=6, init='uniform', activation='relu', input_dim=11)) #here output_dim is no of hidden layer you want to add so we'll add (inp+out)/2"
      ],
      "execution_count": 0,
      "outputs": [
        {
          "output_type": "stream",
          "text": [
            "WARNING:tensorflow:From /usr/local/lib/python3.6/dist-packages/tensorflow/python/framework/op_def_library.py:263: colocate_with (from tensorflow.python.framework.ops) is deprecated and will be removed in a future version.\n",
            "Instructions for updating:\n",
            "Colocations handled automatically by placer.\n"
          ],
          "name": "stdout"
        },
        {
          "output_type": "stream",
          "text": [
            "/usr/local/lib/python3.6/dist-packages/ipykernel_launcher.py:1: UserWarning: Update your `Dense` call to the Keras 2 API: `Dense(activation=\"relu\", input_dim=11, units=6, kernel_initializer=\"uniform\")`\n",
            "  \"\"\"Entry point for launching an IPython kernel.\n"
          ],
          "name": "stderr"
        }
      ]
    },
    {
      "cell_type": "code",
      "metadata": {
        "id": "NtTP6oi7zCQO",
        "colab_type": "code",
        "outputId": "a4b2bb6e-bc77-4735-cfe2-1b1836b6d9a5",
        "colab": {
          "base_uri": "https://localhost:8080/",
          "height": 71
        }
      },
      "source": [
        "#Adding the second hidden layer\n",
        "classifier.add(Dense(output_dim=6, init='uniform', activation='relu')) #note: init='uniform' initializes the weights to small random no. close to zero"
      ],
      "execution_count": 0,
      "outputs": [
        {
          "output_type": "stream",
          "text": [
            "/usr/local/lib/python3.6/dist-packages/ipykernel_launcher.py:1: UserWarning: Update your `Dense` call to the Keras 2 API: `Dense(activation=\"relu\", units=6, kernel_initializer=\"uniform\")`\n",
            "  \"\"\"Entry point for launching an IPython kernel.\n"
          ],
          "name": "stderr"
        }
      ]
    },
    {
      "cell_type": "code",
      "metadata": {
        "id": "o04Q8NsYzqtl",
        "colab_type": "code",
        "outputId": "34d42a13-ffdc-42a2-f65c-5d530170d843",
        "colab": {
          "base_uri": "https://localhost:8080/",
          "height": 71
        }
      },
      "source": [
        "#Adding the output layer \n",
        "classifier.add(Dense(output_dim=1, init='uniform', activation='sigmoid')) \n"
      ],
      "execution_count": 0,
      "outputs": [
        {
          "output_type": "stream",
          "text": [
            "/usr/local/lib/python3.6/dist-packages/ipykernel_launcher.py:1: UserWarning: Update your `Dense` call to the Keras 2 API: `Dense(activation=\"sigmoid\", units=1, kernel_initializer=\"uniform\")`\n",
            "  \"\"\"Entry point for launching an IPython kernel.\n"
          ],
          "name": "stderr"
        }
      ]
    },
    {
      "cell_type": "code",
      "metadata": {
        "id": "kvwGfTO-0ONB",
        "colab_type": "code",
        "colab": {}
      },
      "source": [
        "classifier.compile(optimizer='adam', loss='binary_crossentropy', metrics=['accuracy'])#here adam optimizer is schoastic gradient descent algo and if our dependent variabale has binary outcome then the logarathmic loss function is called binary_crossentropy and if the dependent variable has more than two categories then it is called 'categorical_crossentropy' and the metrics is for evaluating our performance after each epoch"
      ],
      "execution_count": 0,
      "outputs": []
    },
    {
      "cell_type": "code",
      "metadata": {
        "id": "8iAXiQR4m4GA",
        "colab_type": "code",
        "outputId": "322c6dea-42f2-401f-ac9c-d9c966cbd0c8",
        "colab": {
          "base_uri": "https://localhost:8080/",
          "height": 3434
        }
      },
      "source": [
        "#fitting the Ann to the training set\n",
        "classifier.fit(X_train, y_train,batch_size=10,epochs=100)"
      ],
      "execution_count": 0,
      "outputs": [
        {
          "output_type": "stream",
          "text": [
            "Epoch 1/100\n",
            "8000/8000 [==============================] - 1s 82us/step - loss: 0.3992 - acc: 0.8356\n",
            "Epoch 2/100\n",
            "8000/8000 [==============================] - 1s 80us/step - loss: 0.3988 - acc: 0.8356\n",
            "Epoch 3/100\n",
            "8000/8000 [==============================] - 1s 82us/step - loss: 0.3988 - acc: 0.8337\n",
            "Epoch 4/100\n",
            "8000/8000 [==============================] - 1s 85us/step - loss: 0.3993 - acc: 0.8346\n",
            "Epoch 5/100\n",
            "8000/8000 [==============================] - 1s 85us/step - loss: 0.3993 - acc: 0.8354\n",
            "Epoch 6/100\n",
            "8000/8000 [==============================] - 1s 84us/step - loss: 0.3995 - acc: 0.8345\n",
            "Epoch 7/100\n",
            "8000/8000 [==============================] - 1s 88us/step - loss: 0.3996 - acc: 0.8337\n",
            "Epoch 8/100\n",
            "8000/8000 [==============================] - 1s 87us/step - loss: 0.3991 - acc: 0.8345\n",
            "Epoch 9/100\n",
            "8000/8000 [==============================] - 1s 88us/step - loss: 0.3992 - acc: 0.8357\n",
            "Epoch 10/100\n",
            "8000/8000 [==============================] - 1s 90us/step - loss: 0.3990 - acc: 0.8345\n",
            "Epoch 11/100\n",
            "8000/8000 [==============================] - 1s 86us/step - loss: 0.3996 - acc: 0.8336\n",
            "Epoch 12/100\n",
            "8000/8000 [==============================] - 1s 91us/step - loss: 0.3990 - acc: 0.8347\n",
            "Epoch 13/100\n",
            "8000/8000 [==============================] - 1s 96us/step - loss: 0.3998 - acc: 0.8351\n",
            "Epoch 14/100\n",
            "8000/8000 [==============================] - 1s 85us/step - loss: 0.3998 - acc: 0.8351\n",
            "Epoch 15/100\n",
            "8000/8000 [==============================] - 1s 84us/step - loss: 0.3994 - acc: 0.8336\n",
            "Epoch 16/100\n",
            "8000/8000 [==============================] - 1s 83us/step - loss: 0.3992 - acc: 0.8346\n",
            "Epoch 17/100\n",
            "8000/8000 [==============================] - 1s 82us/step - loss: 0.3996 - acc: 0.8354\n",
            "Epoch 18/100\n",
            "8000/8000 [==============================] - 1s 84us/step - loss: 0.3994 - acc: 0.8349\n",
            "Epoch 19/100\n",
            "8000/8000 [==============================] - 1s 82us/step - loss: 0.3992 - acc: 0.8361\n",
            "Epoch 20/100\n",
            "8000/8000 [==============================] - 1s 81us/step - loss: 0.3994 - acc: 0.8327\n",
            "Epoch 21/100\n",
            "8000/8000 [==============================] - 1s 82us/step - loss: 0.3993 - acc: 0.8347\n",
            "Epoch 22/100\n",
            "8000/8000 [==============================] - 1s 85us/step - loss: 0.3995 - acc: 0.8347\n",
            "Epoch 23/100\n",
            "8000/8000 [==============================] - 1s 82us/step - loss: 0.3994 - acc: 0.8354\n",
            "Epoch 24/100\n",
            "8000/8000 [==============================] - 1s 87us/step - loss: 0.3994 - acc: 0.8350\n",
            "Epoch 25/100\n",
            "8000/8000 [==============================] - 1s 82us/step - loss: 0.3994 - acc: 0.8351\n",
            "Epoch 26/100\n",
            "8000/8000 [==============================] - 1s 81us/step - loss: 0.3993 - acc: 0.8351\n",
            "Epoch 27/100\n",
            "8000/8000 [==============================] - 1s 84us/step - loss: 0.3996 - acc: 0.8346\n",
            "Epoch 28/100\n",
            "8000/8000 [==============================] - 1s 81us/step - loss: 0.3990 - acc: 0.8347\n",
            "Epoch 29/100\n",
            "8000/8000 [==============================] - 1s 82us/step - loss: 0.3993 - acc: 0.8340\n",
            "Epoch 30/100\n",
            "8000/8000 [==============================] - 1s 85us/step - loss: 0.3995 - acc: 0.8352\n",
            "Epoch 31/100\n",
            "8000/8000 [==============================] - 1s 85us/step - loss: 0.3992 - acc: 0.8354\n",
            "Epoch 32/100\n",
            "8000/8000 [==============================] - 1s 85us/step - loss: 0.3998 - acc: 0.8351\n",
            "Epoch 33/100\n",
            "8000/8000 [==============================] - 1s 85us/step - loss: 0.3986 - acc: 0.8356\n",
            "Epoch 34/100\n",
            "8000/8000 [==============================] - 1s 85us/step - loss: 0.3992 - acc: 0.8350\n",
            "Epoch 35/100\n",
            "8000/8000 [==============================] - 1s 82us/step - loss: 0.3994 - acc: 0.8346\n",
            "Epoch 36/100\n",
            "8000/8000 [==============================] - 1s 84us/step - loss: 0.3993 - acc: 0.8345\n",
            "Epoch 37/100\n",
            "8000/8000 [==============================] - 1s 86us/step - loss: 0.3993 - acc: 0.8345\n",
            "Epoch 38/100\n",
            "8000/8000 [==============================] - 1s 84us/step - loss: 0.3995 - acc: 0.8346\n",
            "Epoch 39/100\n",
            "8000/8000 [==============================] - 1s 82us/step - loss: 0.3994 - acc: 0.8362\n",
            "Epoch 40/100\n",
            "8000/8000 [==============================] - 1s 86us/step - loss: 0.3994 - acc: 0.8352\n",
            "Epoch 41/100\n",
            "8000/8000 [==============================] - 1s 85us/step - loss: 0.3996 - acc: 0.8360\n",
            "Epoch 42/100\n",
            "8000/8000 [==============================] - 1s 84us/step - loss: 0.3993 - acc: 0.8349\n",
            "Epoch 43/100\n",
            "8000/8000 [==============================] - 1s 82us/step - loss: 0.3993 - acc: 0.8360\n",
            "Epoch 44/100\n",
            "8000/8000 [==============================] - 1s 81us/step - loss: 0.3993 - acc: 0.8356\n",
            "Epoch 45/100\n",
            "8000/8000 [==============================] - 1s 81us/step - loss: 0.3995 - acc: 0.8364\n",
            "Epoch 46/100\n",
            "8000/8000 [==============================] - 1s 85us/step - loss: 0.3992 - acc: 0.8349\n",
            "Epoch 47/100\n",
            "8000/8000 [==============================] - 1s 84us/step - loss: 0.3990 - acc: 0.8349\n",
            "Epoch 48/100\n",
            "8000/8000 [==============================] - 1s 83us/step - loss: 0.3993 - acc: 0.8349\n",
            "Epoch 49/100\n",
            "8000/8000 [==============================] - 1s 81us/step - loss: 0.3994 - acc: 0.8364\n",
            "Epoch 50/100\n",
            "8000/8000 [==============================] - 1s 81us/step - loss: 0.3992 - acc: 0.8354\n",
            "Epoch 51/100\n",
            "8000/8000 [==============================] - 1s 83us/step - loss: 0.3994 - acc: 0.8349\n",
            "Epoch 52/100\n",
            "8000/8000 [==============================] - 1s 86us/step - loss: 0.4001 - acc: 0.8357\n",
            "Epoch 53/100\n",
            "8000/8000 [==============================] - 1s 83us/step - loss: 0.3990 - acc: 0.8347\n",
            "Epoch 54/100\n",
            "8000/8000 [==============================] - 1s 86us/step - loss: 0.3993 - acc: 0.8349\n",
            "Epoch 55/100\n",
            "8000/8000 [==============================] - 1s 84us/step - loss: 0.3992 - acc: 0.8347\n",
            "Epoch 56/100\n",
            "8000/8000 [==============================] - 1s 83us/step - loss: 0.3994 - acc: 0.8337\n",
            "Epoch 57/100\n",
            "8000/8000 [==============================] - 1s 84us/step - loss: 0.3993 - acc: 0.8361\n",
            "Epoch 58/100\n",
            "8000/8000 [==============================] - 1s 84us/step - loss: 0.3987 - acc: 0.8356\n",
            "Epoch 59/100\n",
            "8000/8000 [==============================] - 1s 87us/step - loss: 0.3999 - acc: 0.8346\n",
            "Epoch 60/100\n",
            "8000/8000 [==============================] - 1s 86us/step - loss: 0.4000 - acc: 0.8360\n",
            "Epoch 61/100\n",
            "8000/8000 [==============================] - 1s 85us/step - loss: 0.3993 - acc: 0.8354\n",
            "Epoch 62/100\n",
            "8000/8000 [==============================] - 1s 82us/step - loss: 0.3993 - acc: 0.8356\n",
            "Epoch 63/100\n",
            "8000/8000 [==============================] - 1s 84us/step - loss: 0.3996 - acc: 0.8359\n",
            "Epoch 64/100\n",
            "8000/8000 [==============================] - 1s 85us/step - loss: 0.3991 - acc: 0.8345\n",
            "Epoch 65/100\n",
            "8000/8000 [==============================] - 1s 82us/step - loss: 0.3995 - acc: 0.8350\n",
            "Epoch 66/100\n",
            "8000/8000 [==============================] - 1s 82us/step - loss: 0.3995 - acc: 0.8351\n",
            "Epoch 67/100\n",
            "8000/8000 [==============================] - 1s 83us/step - loss: 0.3995 - acc: 0.8336\n",
            "Epoch 68/100\n",
            "8000/8000 [==============================] - 1s 85us/step - loss: 0.3992 - acc: 0.8345\n",
            "Epoch 69/100\n",
            "8000/8000 [==============================] - 1s 84us/step - loss: 0.3993 - acc: 0.8362\n",
            "Epoch 70/100\n",
            "8000/8000 [==============================] - 1s 84us/step - loss: 0.3993 - acc: 0.8355\n",
            "Epoch 71/100\n",
            "8000/8000 [==============================] - 1s 84us/step - loss: 0.3992 - acc: 0.8350\n",
            "Epoch 72/100\n",
            "8000/8000 [==============================] - 1s 87us/step - loss: 0.3994 - acc: 0.8345\n",
            "Epoch 73/100\n",
            "8000/8000 [==============================] - 1s 84us/step - loss: 0.3995 - acc: 0.8351\n",
            "Epoch 74/100\n",
            "8000/8000 [==============================] - 1s 82us/step - loss: 0.3999 - acc: 0.8351\n",
            "Epoch 75/100\n",
            "8000/8000 [==============================] - 1s 80us/step - loss: 0.3994 - acc: 0.8371\n",
            "Epoch 76/100\n",
            "8000/8000 [==============================] - 1s 84us/step - loss: 0.3994 - acc: 0.8350\n",
            "Epoch 77/100\n",
            "8000/8000 [==============================] - 1s 84us/step - loss: 0.3994 - acc: 0.8344\n",
            "Epoch 78/100\n",
            "8000/8000 [==============================] - 1s 84us/step - loss: 0.3994 - acc: 0.8349\n",
            "Epoch 79/100\n",
            "8000/8000 [==============================] - 1s 81us/step - loss: 0.3997 - acc: 0.8344\n",
            "Epoch 80/100\n",
            "8000/8000 [==============================] - 1s 82us/step - loss: 0.3996 - acc: 0.8356\n",
            "Epoch 81/100\n",
            "8000/8000 [==============================] - 1s 84us/step - loss: 0.3992 - acc: 0.8351\n",
            "Epoch 82/100\n",
            "8000/8000 [==============================] - 1s 84us/step - loss: 0.3989 - acc: 0.8351\n",
            "Epoch 83/100\n",
            "8000/8000 [==============================] - 1s 81us/step - loss: 0.3996 - acc: 0.8339\n",
            "Epoch 84/100\n",
            "8000/8000 [==============================] - 1s 83us/step - loss: 0.3997 - acc: 0.8341\n",
            "Epoch 85/100\n",
            "8000/8000 [==============================] - 1s 83us/step - loss: 0.3997 - acc: 0.8356\n",
            "Epoch 86/100\n",
            "8000/8000 [==============================] - 1s 82us/step - loss: 0.3994 - acc: 0.8342\n",
            "Epoch 87/100\n",
            "8000/8000 [==============================] - 1s 84us/step - loss: 0.3991 - acc: 0.8356\n",
            "Epoch 88/100\n",
            "8000/8000 [==============================] - 1s 85us/step - loss: 0.3989 - acc: 0.8334\n",
            "Epoch 89/100\n",
            "8000/8000 [==============================] - 1s 82us/step - loss: 0.3994 - acc: 0.8350\n",
            "Epoch 90/100\n",
            "8000/8000 [==============================] - 1s 82us/step - loss: 0.3990 - acc: 0.8342\n",
            "Epoch 91/100\n",
            "8000/8000 [==============================] - 1s 85us/step - loss: 0.3992 - acc: 0.8360\n",
            "Epoch 92/100\n",
            "8000/8000 [==============================] - 1s 91us/step - loss: 0.3993 - acc: 0.8351\n",
            "Epoch 93/100\n",
            "8000/8000 [==============================] - 1s 91us/step - loss: 0.3989 - acc: 0.8362\n",
            "Epoch 94/100\n",
            "8000/8000 [==============================] - 1s 89us/step - loss: 0.3991 - acc: 0.8345\n",
            "Epoch 95/100\n",
            "8000/8000 [==============================] - 1s 91us/step - loss: 0.3986 - acc: 0.8361\n",
            "Epoch 96/100\n",
            "8000/8000 [==============================] - 1s 90us/step - loss: 0.3996 - acc: 0.8355\n",
            "Epoch 97/100\n",
            "8000/8000 [==============================] - 1s 88us/step - loss: 0.3991 - acc: 0.8356\n",
            "Epoch 98/100\n",
            "8000/8000 [==============================] - 1s 91us/step - loss: 0.3995 - acc: 0.8356\n",
            "Epoch 99/100\n",
            "8000/8000 [==============================] - 1s 90us/step - loss: 0.3997 - acc: 0.8356\n",
            "Epoch 100/100\n",
            "8000/8000 [==============================] - 1s 90us/step - loss: 0.3987 - acc: 0.8345\n"
          ],
          "name": "stdout"
        },
        {
          "output_type": "execute_result",
          "data": {
            "text/plain": [
              "<keras.callbacks.History at 0x7fa8aa726f60>"
            ]
          },
          "metadata": {
            "tags": []
          },
          "execution_count": 20
        }
      ]
    },
    {
      "cell_type": "code",
      "metadata": {
        "id": "mAHMKLWk0PrT",
        "colab_type": "code",
        "colab": {}
      },
      "source": [
        "#predicting the Test set results\n",
        "y_pred=classifier.predict(X_test)"
      ],
      "execution_count": 0,
      "outputs": []
    },
    {
      "cell_type": "code",
      "metadata": {
        "id": "jnVJQ-4tqs0J",
        "colab_type": "code",
        "outputId": "56b56811-d6c5-40d7-b132-5c95864d6d50",
        "colab": {
          "base_uri": "https://localhost:8080/",
          "height": 136
        }
      },
      "source": [
        "print(y_pred)"
      ],
      "execution_count": 0,
      "outputs": [
        {
          "output_type": "stream",
          "text": [
            "[[0.1782875 ]\n",
            " [0.3094283 ]\n",
            " [0.17005453]\n",
            " ...\n",
            " [0.13301861]\n",
            " [0.16349626]\n",
            " [0.06941229]]\n"
          ],
          "name": "stdout"
        }
      ]
    },
    {
      "cell_type": "code",
      "metadata": {
        "id": "nMKgEU63qxzE",
        "colab_type": "code",
        "colab": {}
      },
      "source": [
        "#converting y_pred into True and False based on 50% threshold in order to compute cm\n",
        "y_pred =(y_pred>0.5)"
      ],
      "execution_count": 0,
      "outputs": []
    },
    {
      "cell_type": "code",
      "metadata": {
        "id": "RsIfnjztrEmV",
        "colab_type": "code",
        "outputId": "19b33011-92f2-4ae7-f1c2-d9aa30e5037c",
        "colab": {
          "base_uri": "https://localhost:8080/",
          "height": 136
        }
      },
      "source": [
        "print(y_pred)"
      ],
      "execution_count": 0,
      "outputs": [
        {
          "output_type": "stream",
          "text": [
            "[[False]\n",
            " [False]\n",
            " [False]\n",
            " ...\n",
            " [False]\n",
            " [False]\n",
            " [False]]\n"
          ],
          "name": "stdout"
        }
      ]
    },
    {
      "cell_type": "code",
      "metadata": {
        "id": "-3_f3LrHrHH5",
        "colab_type": "code",
        "colab": {}
      },
      "source": [
        "#Making the confusion matrix\n",
        "from sklearn.metrics import confusion_matrix \n",
        "cm=confusion_matrix(y_test, y_pred)"
      ],
      "execution_count": 0,
      "outputs": []
    },
    {
      "cell_type": "code",
      "metadata": {
        "id": "yySAFx9preQl",
        "colab_type": "code",
        "outputId": "9ff19350-28df-4b64-b731-8929dd09ca71",
        "colab": {
          "base_uri": "https://localhost:8080/",
          "height": 51
        }
      },
      "source": [
        "print(cm)"
      ],
      "execution_count": 0,
      "outputs": [
        {
          "output_type": "stream",
          "text": [
            "[[1551   44]\n",
            " [ 275  130]]\n"
          ],
          "name": "stdout"
        }
      ]
    },
    {
      "cell_type": "code",
      "metadata": {
        "id": "QTqGY_rBrflv",
        "colab_type": "code",
        "outputId": "8bd7bcda-12fd-42e5-b2df-e20f1f399993",
        "colab": {
          "base_uri": "https://localhost:8080/",
          "height": 34
        }
      },
      "source": [
        "#calculating accuracy of model\n",
        "print((1551+130)/2000)"
      ],
      "execution_count": 0,
      "outputs": [
        {
          "output_type": "stream",
          "text": [
            "0.8405\n"
          ],
          "name": "stdout"
        }
      ]
    }
  ]
}