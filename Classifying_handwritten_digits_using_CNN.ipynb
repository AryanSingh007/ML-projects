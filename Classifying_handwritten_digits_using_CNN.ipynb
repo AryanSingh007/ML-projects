{
 "cells": [
  {
   "cell_type": "code",
   "execution_count": 35,
   "metadata": {
    "colab": {
     "base_uri": "https://localhost:8080/",
     "height": 34
    },
    "colab_type": "code",
    "id": "s8QBiW0hbK2w",
    "outputId": "7284a232-83f8-4c00-ae73-72e0073e9026"
   },
   "outputs": [
    {
     "name": "stderr",
     "output_type": "stream",
     "text": [
      "Using TensorFlow backend.\n"
     ]
    }
   ],
   "source": [
    "import tensorflow as tf\n",
    "import keras"
   ]
  },
  {
   "cell_type": "code",
   "execution_count": 0,
   "metadata": {
    "colab": {},
    "colab_type": "code",
    "id": "zIr1xAucjACb"
   },
   "outputs": [],
   "source": [
    "from keras.models import Sequential#it is used to initialilze the cnn as a sequence of layers\n",
    "from keras.layers import Convolution2D#it is used to add the convolution layers or different feature maps\n",
    "from keras.layers import MaxPooling2D#to do max pooling of of each feature map and convert them into pooled feature map\n",
    "from keras.layers import Flatten#it is used to convert all the pooled feature maps into large feature vector that then becomes the input of our fully connected layers \n",
    "from keras.layers import Dense#it is used to add the fully connected layers into the ANN"
   ]
  },
  {
   "cell_type": "code",
   "execution_count": 0,
   "metadata": {
    "colab": {},
    "colab_type": "code",
    "id": "cVz0lncFjBPe"
   },
   "outputs": [],
   "source": []
  },
  {
   "cell_type": "code",
   "execution_count": 0,
   "metadata": {
    "colab": {},
    "colab_type": "code",
    "id": "jv3xb5mvbPd3"
   },
   "outputs": [],
   "source": [
    "#importing the dataset\n",
    "mnist = tf.keras.datasets.mnist #consists of 28x28 images of hand-written digits 0-9\n",
    "(X_train, y_train), (X_test, y_test) = mnist.load_data()\n",
    "\n",
    "# scaling the data because it is easier for nn to learn\n",
    "X_train = tf.keras.utils.normalize(X_train, axis=1)\n",
    "X_test = tf.keras.utils.normalize(X_test, axis=1)"
   ]
  },
  {
   "cell_type": "code",
   "execution_count": 29,
   "metadata": {
    "colab": {
     "base_uri": "https://localhost:8080/",
     "height": 269
    },
    "colab_type": "code",
    "id": "A3jHgrtWbWCj",
    "outputId": "1c288c51-a40e-4fdf-a133-7b4e2219c689"
   },
   "outputs": [
    {
     "data": {
      "image/png": "[encoded data removed]",
      "text/plain": [
       "<Figure size 432x288 with 1 Axes>"
      ]
     },
     "metadata": {
      "tags": []
     },
     "output_type": "display_data"
    }
   ],
   "source": [
    "import matplotlib.pyplot as plt\n",
    "plt.imshow(X_train[1])\n",
    "plt.show()"
   ]
  },
  {
   "cell_type": "code",
   "execution_count": 0,
   "metadata": {
    "colab": {},
    "colab_type": "code",
    "id": "XETwypeIbefD"
   },
   "outputs": [],
   "source": [
    "#Initialising the CNN\n",
    "model = Sequential()\n",
    "\n",
    "model.add(Flatten())\n",
    "\n",
    "#Adding 1st hidden layer\n",
    "model.add(Dense(128, activation='relu'))\n",
    "\n",
    "#Adding 2nd hidden layer\n",
    "model.add(Dense(128, activation='relu'))\n",
    "\n",
    "model.add(Dense(10, activation='softmax'))\n",
    "\n",
    "model.compile(optimizer='adam',loss='sparse_categorical_crossentropy',metrics=['accuracy'])"
   ]
  },
  {
   "cell_type": "code",
   "execution_count": 51,
   "metadata": {
    "colab": {
     "base_uri": "https://localhost:8080/",
     "height": 374
    },
    "colab_type": "code",
    "id": "J8z1BM7gj98R",
    "outputId": "abda4af5-d04a-4f59-961d-cc3a73e0e3e5"
   },
   "outputs": [
    {
     "name": "stdout",
     "output_type": "stream",
     "text": [
      "Epoch 1/10\n",
      "60000/60000 [==============================] - 6s 102us/step - loss: 0.0523 - acc: 0.9830\n",
      "Epoch 2/10\n",
      "60000/60000 [==============================] - 6s 103us/step - loss: 0.0412 - acc: 0.9864\n",
      "Epoch 3/10\n",
      "60000/60000 [==============================] - 6s 103us/step - loss: 0.0309 - acc: 0.9899\n",
      "Epoch 4/10\n",
      "60000/60000 [==============================] - 6s 101us/step - loss: 0.0252 - acc: 0.9914\n",
      "Epoch 5/10\n",
      "60000/60000 [==============================] - 6s 101us/step - loss: 0.0201 - acc: 0.9936\n",
      "Epoch 6/10\n",
      "60000/60000 [==============================] - 6s 101us/step - loss: 0.0175 - acc: 0.9942\n",
      "Epoch 7/10\n",
      "60000/60000 [==============================] - 6s 101us/step - loss: 0.0149 - acc: 0.9949\n",
      "Epoch 8/10\n",
      "60000/60000 [==============================] - 6s 100us/step - loss: 0.0135 - acc: 0.9952\n",
      "Epoch 9/10\n",
      "60000/60000 [==============================] - 6s 100us/step - loss: 0.0122 - acc: 0.9958\n",
      "Epoch 10/10\n",
      "60000/60000 [==============================] - 6s 99us/step - loss: 0.0117 - acc: 0.9959\n"
     ]
    },
    {
     "data": {
      "text/plain": [
       "<keras.callbacks.History at 0x7fab260818d0>"
      ]
     },
     "execution_count": 51,
     "metadata": {
      "tags": []
     },
     "output_type": "execute_result"
    }
   ],
   "source": [
    "model.fit(X_train,y_train,epochs=10)"
   ]
  },
  {
   "cell_type": "code",
   "execution_count": 52,
   "metadata": {
    "colab": {
     "base_uri": "https://localhost:8080/",
     "height": 51
    },
    "colab_type": "code",
    "id": "CzFrlB0ycwJV",
    "outputId": "b09dd3b8-fa99-4002-8951-d632b72ab3eb"
   },
   "outputs": [
    {
     "name": "stdout",
     "output_type": "stream",
     "text": [
      "10000/10000 [==============================] - 1s 56us/step\n",
      "0.13242371306104142 0.9751\n"
     ]
    }
   ],
   "source": [
    "val_loss, val_acc =model.evaluate(X_test, y_test)\n",
    "print(val_loss, val_acc)"
   ]
  },
  {
   "cell_type": "code",
   "execution_count": 0,
   "metadata": {
    "colab": {},
    "colab_type": "code",
    "id": "1ywEWdS9diuT"
   },
   "outputs": [],
   "source": [
    "#hence our test set accuracy is 97%"
   ]
  },
  {
   "cell_type": "code",
   "execution_count": 0,
   "metadata": {
    "colab": {},
    "colab_type": "code",
    "id": "DZdeB6KTdvaf"
   },
   "outputs": [],
   "source": [
    "#saving our model\n",
    "model.save('Number_reader.model')"
   ]
  },
  {
   "cell_type": "code",
   "execution_count": 54,
   "metadata": {
    "colab": {
     "base_uri": "https://localhost:8080/",
     "height": 54
    },
    "colab_type": "code",
    "id": "gFFWwAeid7uB",
    "outputId": "4e05dbb1-8c11-4d31-a8ff-974240f12caf"
   },
   "outputs": [
    {
     "name": "stdout",
     "output_type": "stream",
     "text": [
      "WARNING:tensorflow:Sequential models without an `input_shape` passed to the first layer cannot reload their optimizer state. As a result, your model isstarting with a freshly initialized optimizer.\n"
     ]
    }
   ],
   "source": [
    "new_model = tf.keras.models.load_model('Number_reader.model')"
   ]
  },
  {
   "cell_type": "code",
   "execution_count": 55,
   "metadata": {
    "colab": {
     "base_uri": "https://localhost:8080/",
     "height": 34
    },
    "colab_type": "code",
    "id": "NoYxA14yeL8b",
    "outputId": "aca5eb82-94c6-40b4-9e2d-02622a39d91e"
   },
   "outputs": [
    {
     "name": "stdout",
     "output_type": "stream",
     "text": [
      "7\n"
     ]
    }
   ],
   "source": [
    "import numpy as np\n",
    "predictions = new_model.predict(X_test)\n",
    "print(np.argmax(predictions[0]))"
   ]
  },
  {
   "cell_type": "code",
   "execution_count": 56,
   "metadata": {
    "colab": {
     "base_uri": "https://localhost:8080/",
     "height": 269
    },
    "colab_type": "code",
    "id": "NnBzLhuGedl7",
    "outputId": "035271da-5f6b-4284-c13a-265fb91b4d0c"
   },
   "outputs": [
    {
     "data": {
      "image/png": "[encoded data removed]",
      "text/plain": [
       "<Figure size 432x288 with 1 Axes>"
      ]
     },
     "metadata": {
      "tags": []
     },
     "output_type": "display_data"
    }
   ],
   "source": [
    "#lets cross check our prediction \n",
    "plt.imshow(X_test[0])\n",
    "plt.show()"
   ]
  },
  {
   "cell_type": "code",
   "execution_count": 0,
   "metadata": {
    "colab": {},
    "colab_type": "code",
    "id": "jJW_AzZefb-_"
   },
   "outputs": [],
   "source": []
  }
 ],
 "metadata": {
  "accelerator": "GPU",
  "colab": {
   "name": "Classifying handwritten digits using CNN.ipynb",
   "provenance": [],
   "version": "0.3.2"
  },
  "kernelspec": {
   "display_name": "Python 3",
   "language": "python",
   "name": "python3"
  },
  "language_info": {
   "codemirror_mode": {
    "name": "ipython",
    "version": 3
   },
   "file_extension": ".py",
   "mimetype": "text/x-python",
   "name": "python",
   "nbconvert_exporter": "python",
   "pygments_lexer": "ipython3",
   "version": "3.6.4"
  }
 },
 "nbformat": 4,
 "nbformat_minor": 1
}
