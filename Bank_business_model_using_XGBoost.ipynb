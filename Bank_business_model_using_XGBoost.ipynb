{
  "nbformat": 4,
  "nbformat_minor": 0,
  "metadata": {
    "colab": {
      "name": "Bank business model using XGBoost.ipynb",
      "version": "0.3.2",
      "provenance": []
    },
    "kernelspec": {
      "name": "python3",
      "display_name": "Python 3"
    }
  },
  "cells": [
    {
      "cell_type": "code",
      "metadata": {
        "id": "5gjKvkYAYhPX",
        "colab_type": "code",
        "colab": {}
      },
      "source": [
        "#Xgboost is very powerful model\n",
        "#it is the most powerful implementation of gradient boosting in terms of model performance and execution speed\n",
        "#We are trying to predict which of the customers will leave the bank by learning from the data set"
      ],
      "execution_count": 0,
      "outputs": []
    },
    {
      "cell_type": "code",
      "metadata": {
        "id": "PhXO8ytYZKc6",
        "colab_type": "code",
        "colab": {
          "base_uri": "https://localhost:8080/",
          "height": 68
        },
        "outputId": "f76973a8-28ec-4941-df31-08e3eef8fe55"
      },
      "source": [
        "!pip install xgboost"
      ],
      "execution_count": 2,
      "outputs": [
        {
          "output_type": "stream",
          "text": [
            "Requirement already satisfied: xgboost in /usr/local/lib/python3.6/dist-packages (0.90)\n",
            "Requirement already satisfied: scipy in /usr/local/lib/python3.6/dist-packages (from xgboost) (1.3.0)\n",
            "Requirement already satisfied: numpy in /usr/local/lib/python3.6/dist-packages (from xgboost) (1.16.4)\n"
          ],
          "name": "stdout"
        }
      ]
    },
    {
      "cell_type": "code",
      "metadata": {
        "id": "TtkZqlKvZUHd",
        "colab_type": "code",
        "colab": {}
      },
      "source": [
        "#part 1 - Data Preprocessing\n",
        "import numpy as np\n",
        "import matplotlib.pyplot as plt\n",
        "import pandas as pd\n",
        "dataset=pd.read_csv('Churn_Modelling.csv')"
      ],
      "execution_count": 0,
      "outputs": []
    },
    {
      "cell_type": "code",
      "metadata": {
        "id": "g4GXm7E4avz9",
        "colab_type": "code",
        "colab": {
          "base_uri": "https://localhost:8080/",
          "height": 1105
        },
        "outputId": "f29268f0-9775-462a-ded4-28d470fec3f2"
      },
      "source": [
        "print(dataset)"
      ],
      "execution_count": 5,
      "outputs": [
        {
          "output_type": "stream",
          "text": [
            "      RowNumber  CustomerId  ... EstimatedSalary  Exited\n",
            "0             1    15634602  ...       101348.88       1\n",
            "1             2    15647311  ...       112542.58       0\n",
            "2             3    15619304  ...       113931.57       1\n",
            "3             4    15701354  ...        93826.63       0\n",
            "4             5    15737888  ...        79084.10       0\n",
            "5             6    15574012  ...       149756.71       1\n",
            "6             7    15592531  ...        10062.80       0\n",
            "7             8    15656148  ...       119346.88       1\n",
            "8             9    15792365  ...        74940.50       0\n",
            "9            10    15592389  ...        71725.73       0\n",
            "10           11    15767821  ...        80181.12       0\n",
            "11           12    15737173  ...        76390.01       0\n",
            "12           13    15632264  ...        26260.98       0\n",
            "13           14    15691483  ...       190857.79       0\n",
            "14           15    15600882  ...        65951.65       0\n",
            "15           16    15643966  ...        64327.26       0\n",
            "16           17    15737452  ...         5097.67       1\n",
            "17           18    15788218  ...        14406.41       0\n",
            "18           19    15661507  ...       158684.81       0\n",
            "19           20    15568982  ...        54724.03       0\n",
            "20           21    15577657  ...       170886.17       0\n",
            "21           22    15597945  ...       138555.46       0\n",
            "22           23    15699309  ...       118913.53       1\n",
            "23           24    15725737  ...         8487.75       0\n",
            "24           25    15625047  ...       187616.16       0\n",
            "25           26    15738191  ...       124508.29       0\n",
            "26           27    15736816  ...       170041.95       0\n",
            "27           28    15700772  ...        38433.35       0\n",
            "28           29    15728693  ...       100187.43       0\n",
            "29           30    15656300  ...        53483.21       0\n",
            "...         ...         ...  ...             ...     ...\n",
            "9970       9971    15587133  ...       119377.36       0\n",
            "9971       9972    15721377  ...       166472.81       0\n",
            "9972       9973    15747927  ...       171552.02       0\n",
            "9973       9974    15806455  ...       157474.10       0\n",
            "9974       9975    15695474  ...        13549.24       0\n",
            "9975       9976    15666295  ...       196526.55       1\n",
            "9976       9977    15656062  ...        84419.78       0\n",
            "9977       9978    15579969  ...        24991.92       0\n",
            "9978       9979    15703563  ...       191608.97       0\n",
            "9979       9980    15692664  ...         2988.28       0\n",
            "9980       9981    15719276  ...        99595.67       0\n",
            "9981       9982    15672754  ...        53445.17       1\n",
            "9982       9983    15768163  ...       115146.40       1\n",
            "9983       9984    15656710  ...       151325.24       0\n",
            "9984       9985    15696175  ...        51695.41       0\n",
            "9985       9986    15586914  ...        96833.00       0\n",
            "9986       9987    15581736  ...        34047.54       0\n",
            "9987       9988    15588839  ...         1914.41       0\n",
            "9988       9989    15589329  ...        49337.84       0\n",
            "9989       9990    15605622  ...       179436.60       0\n",
            "9990       9991    15798964  ...        53667.08       0\n",
            "9991       9992    15769959  ...        69384.71       1\n",
            "9992       9993    15657105  ...       195192.40       0\n",
            "9993       9994    15569266  ...        29179.52       0\n",
            "9994       9995    15719294  ...       167773.55       0\n",
            "9995       9996    15606229  ...        96270.64       0\n",
            "9996       9997    15569892  ...       101699.77       0\n",
            "9997       9998    15584532  ...        42085.58       1\n",
            "9998       9999    15682355  ...        92888.52       1\n",
            "9999      10000    15628319  ...        38190.78       0\n",
            "\n",
            "[10000 rows x 14 columns]\n"
          ],
          "name": "stdout"
        }
      ]
    },
    {
      "cell_type": "code",
      "metadata": {
        "id": "lBhzoRP-axab",
        "colab_type": "code",
        "colab": {}
      },
      "source": [
        "X=dataset.iloc[:,3:13].values\n",
        "y=dataset.iloc[:,13].values"
      ],
      "execution_count": 0,
      "outputs": []
    },
    {
      "cell_type": "code",
      "metadata": {
        "id": "vF7AwWaTa5g-",
        "colab_type": "code",
        "colab": {
          "base_uri": "https://localhost:8080/",
          "height": 139
        },
        "outputId": "35d706fa-5008-4701-dc0b-b5683e83bccd"
      },
      "source": [
        "#Encoding categorical data\n",
        "from sklearn.preprocessing import LabelEncoder,OneHotEncoder\n",
        "labelencoder_1=LabelEncoder()\n",
        "X[ : , 1] = labelencoder_1.fit_transform(X[ : , 1])\n",
        "labelencoder_2=LabelEncoder()\n",
        "X[ : , 2] = labelencoder_2.fit_transform(X[ : , 2])\n",
        "#creating dummy variable for countries(cuz france is not higher than germany)\n",
        "onehotencoder = OneHotEncoder(categorical_features = [1])\n",
        "X = onehotencoder.fit_transform(X).toarray()"
      ],
      "execution_count": 7,
      "outputs": [
        {
          "output_type": "stream",
          "text": [
            "/usr/local/lib/python3.6/dist-packages/sklearn/preprocessing/_encoders.py:415: FutureWarning: The handling of integer data will change in version 0.22. Currently, the categories are determined based on the range [0, max(values)], while in the future they will be determined based on the unique values.\n",
            "If you want the future behaviour and silence this warning, you can specify \"categories='auto'\".\n",
            "In case you used a LabelEncoder before this OneHotEncoder to convert the categories to integers, then you can now use the OneHotEncoder directly.\n",
            "  warnings.warn(msg, FutureWarning)\n",
            "/usr/local/lib/python3.6/dist-packages/sklearn/preprocessing/_encoders.py:451: DeprecationWarning: The 'categorical_features' keyword is deprecated in version 0.20 and will be removed in 0.22. You can use the ColumnTransformer instead.\n",
            "  \"use the ColumnTransformer instead.\", DeprecationWarning)\n"
          ],
          "name": "stderr"
        }
      ]
    },
    {
      "cell_type": "code",
      "metadata": {
        "id": "E0bAoZ2Ka_PF",
        "colab_type": "code",
        "colab": {}
      },
      "source": [
        "#to avoid multicolinearity i.e. dummy variable trap(i.e. using m-1 variables for representing m dummy variable)\n",
        "X=X[:,1:]"
      ],
      "execution_count": 0,
      "outputs": []
    },
    {
      "cell_type": "code",
      "metadata": {
        "id": "cN0VHOmlbFvs",
        "colab_type": "code",
        "colab": {}
      },
      "source": [
        "from sklearn.model_selection import train_test_split\n",
        "X_train, X_test, y_train, y_test = train_test_split(X, y, test_size = 0.2, random_state = 0)"
      ],
      "execution_count": 0,
      "outputs": []
    },
    {
      "cell_type": "code",
      "metadata": {
        "id": "7Duwr3x5bIsS",
        "colab_type": "code",
        "colab": {
          "base_uri": "https://localhost:8080/",
          "height": 136
        },
        "outputId": "20a955b0-01b1-4d8b-e7eb-718611937bbf"
      },
      "source": [
        "#Fitting XGBoost to the Training Set\n",
        "from xgboost import XGBClassifier\n",
        "classifier = XGBClassifier()\n",
        "classifier.fit(X_train, y_train)"
      ],
      "execution_count": 10,
      "outputs": [
        {
          "output_type": "execute_result",
          "data": {
            "text/plain": [
              "XGBClassifier(base_score=0.5, booster='gbtree', colsample_bylevel=1,\n",
              "              colsample_bynode=1, colsample_bytree=1, gamma=0,\n",
              "              learning_rate=0.1, max_delta_step=0, max_depth=3,\n",
              "              min_child_weight=1, missing=None, n_estimators=100, n_jobs=1,\n",
              "              nthread=None, objective='binary:logistic', random_state=0,\n",
              "              reg_alpha=0, reg_lambda=1, scale_pos_weight=1, seed=None,\n",
              "              silent=None, subsample=1, verbosity=1)"
            ]
          },
          "metadata": {
            "tags": []
          },
          "execution_count": 10
        }
      ]
    },
    {
      "cell_type": "code",
      "metadata": {
        "id": "9_2RJauccEju",
        "colab_type": "code",
        "colab": {}
      },
      "source": [
        "# Predicting the Test set results\n",
        "y_pred = classifier.predict(X_test)\n",
        "\n",
        "# Making the Confusion Matrix\n",
        "from sklearn.metrics import confusion_matrix\n",
        "cm = confusion_matrix(y_test, y_pred)\n",
        "\n",
        "# Applying k-Fold Cross Validation\n",
        "from sklearn.model_selection import cross_val_score\n",
        "accuracies = cross_val_score(estimator = classifier, X = X_train, y = y_train, cv = 10)"
      ],
      "execution_count": 0,
      "outputs": []
    },
    {
      "cell_type": "code",
      "metadata": {
        "id": "qICDz-jXc2SO",
        "colab_type": "code",
        "colab": {
          "base_uri": "https://localhost:8080/",
          "height": 34
        },
        "outputId": "1b5a76af-f86c-4b5d-a622-7a7cd0dfd812"
      },
      "source": [
        "print(accuracies.mean())"
      ],
      "execution_count": 19,
      "outputs": [
        {
          "output_type": "stream",
          "text": [
            "0.8629994451163204\n"
          ],
          "name": "stdout"
        }
      ]
    },
    {
      "cell_type": "code",
      "metadata": {
        "id": "LSZqfaDac8EK",
        "colab_type": "code",
        "colab": {}
      },
      "source": [
        "#we get an accuracy of 86%"
      ],
      "execution_count": 0,
      "outputs": []
    },
    {
      "cell_type": "code",
      "metadata": {
        "id": "6Mi2StoNc6NX",
        "colab_type": "code",
        "colab": {
          "base_uri": "https://localhost:8080/",
          "height": 34
        },
        "outputId": "3d15c59e-5f17-412d-fbf4-209da379b228"
      },
      "source": [
        "print(accuracies.std())"
      ],
      "execution_count": 18,
      "outputs": [
        {
          "output_type": "stream",
          "text": [
            "0.010677872171663988\n"
          ],
          "name": "stdout"
        }
      ]
    },
    {
      "cell_type": "code",
      "metadata": {
        "id": "CHaJOtibc7LE",
        "colab_type": "code",
        "colab": {}
      },
      "source": [
        "#we get only 1% variance"
      ],
      "execution_count": 0,
      "outputs": []
    },
    {
      "cell_type": "code",
      "metadata": {
        "id": "TsctqL6IcWjZ",
        "colab_type": "code",
        "colab": {
          "base_uri": "https://localhost:8080/",
          "height": 51
        },
        "outputId": "0aacb114-b4ca-4545-ad3f-1e830507e480"
      },
      "source": [
        "print(cm)"
      ],
      "execution_count": 13,
      "outputs": [
        {
          "output_type": "stream",
          "text": [
            "[[1521   74]\n",
            " [ 197  208]]\n"
          ],
          "name": "stdout"
        }
      ]
    },
    {
      "cell_type": "code",
      "metadata": {
        "id": "k6cr0oCDcwPS",
        "colab_type": "code",
        "colab": {}
      },
      "source": [
        ""
      ],
      "execution_count": 0,
      "outputs": []
    }
  ]
}